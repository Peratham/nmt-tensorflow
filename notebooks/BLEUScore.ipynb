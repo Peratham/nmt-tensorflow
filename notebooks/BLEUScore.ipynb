{
 "cells": [
  {
   "cell_type": "code",
   "execution_count": 1,
   "metadata": {
    "collapsed": true
   },
   "outputs": [],
   "source": [
    "from __future__ import division\n",
    "from __future__ import print_function\n",
    "\n",
    "from nltk.translate.bleu_score import sentence_bleu\n",
    "from nltk.translate.bleu_score import corpus_bleu"
   ]
  },
  {
   "cell_type": "code",
   "execution_count": 2,
   "metadata": {
    "collapsed": true
   },
   "outputs": [],
   "source": [
    "hypothesis = [\n",
    "    u\"Une stratégie républicaine pour contrer la réélection d'Obama\", \n",
    "    u\"Les dirigeants républicains justifièrent leur politique par la \\\n",
    "    nécessité de lutter contre la fraude électorale.\",\n",
    "    u\"Or, le Centre Brennan considère cette dernière comme un mythe, \\\n",
    "    affirmant que la fraude électorale est plus rare aux États-Unis \\\n",
    "    que le nombre de personnes tuées par la foudre.\",\n",
    "    u\"D'ailleurs, les avocats républicains n'ont recensé que 300 cas \\\n",
    "    de fraude électorale aux États-Unis en dix ans.\"\n",
    "]\n",
    "\n",
    "reference = [\n",
    "    u\"Une stratégie républicaine pour contrer la _UNK de Obama\", \n",
    "    u\"Les _UNK républicains justifièrent leur politique par la \\\n",
    "    nécessité de lutter _UNK la fraude électorale.\",\n",
    "    u\"Or, le Centre _UNK considère cette dernière comme un mythe, \\\n",
    "    _UNK que la fraude _UNK est plus rare aux États-Unis \\\n",
    "    que le nombre de personnes tuées par la foudre.\",\n",
    "    u\"D'ailleurs, les _UNK républicains n'ont recensé que 300 cas \\\n",
    "    de fraude électorale aux _UNK en dix ans.\"\n",
    "]\n",
    "\n",
    "reference2 = [u\"_UNK\"] * 4"
   ]
  },
  {
   "cell_type": "code",
   "execution_count": 3,
   "metadata": {
    "collapsed": false
   },
   "outputs": [
    {
     "data": {
      "text/plain": [
       "0.2823545652506969"
      ]
     },
     "execution_count": 3,
     "metadata": {},
     "output_type": "execute_result"
    }
   ],
   "source": [
    "corpus_bleu(reference2, hypothesis)"
   ]
  },
  {
   "cell_type": "code",
   "execution_count": 5,
   "metadata": {
    "collapsed": true
   },
   "outputs": [],
   "source": [
    "ids = [32, 1789, 209, 18, 8238, 908, 90, 981, 2]"
   ]
  },
  {
   "cell_type": "code",
   "execution_count": 9,
   "metadata": {
    "collapsed": false
   },
   "outputs": [
    {
     "data": {
      "text/plain": [
       "[32, 1789, 209, 18, 8238, 908, 90, 981]"
      ]
     },
     "execution_count": 9,
     "metadata": {},
     "output_type": "execute_result"
    }
   ],
   "source": [
    "def stop():\n",
    "    raise StopIteration\n",
    "    \n",
    "def invalid(x):\n",
    "    return x != 0 and x < 3\n",
    "\n",
    "def validate(x):\n",
    "    if x != 0 and x < 3:\n",
    "        raise StopIteration\n",
    "    return x\n",
    "    \n",
    "list(validate(x) for x in ids)"
   ]
  },
  {
   "cell_type": "code",
   "execution_count": 48,
   "metadata": {
    "collapsed": false
   },
   "outputs": [
    {
     "data": {
      "text/plain": [
       "4"
      ]
     },
     "execution_count": 48,
     "metadata": {},
     "output_type": "execute_result"
    }
   ],
   "source": [
    "len(hypothesis)"
   ]
  },
  {
   "cell_type": "code",
   "execution_count": 73,
   "metadata": {
    "collapsed": false
   },
   "outputs": [
    {
     "data": {
      "text/plain": [
       "0"
      ]
     },
     "execution_count": 73,
     "metadata": {},
     "output_type": "execute_result"
    }
   ],
   "source": [
    "len(u\"\")"
   ]
  },
  {
   "cell_type": "code",
   "execution_count": null,
   "metadata": {
    "collapsed": true
   },
   "outputs": [],
   "source": []
  }
 ],
 "metadata": {
  "anaconda-cloud": {},
  "kernelspec": {
   "display_name": "Python [Root]",
   "language": "python",
   "name": "Python [Root]"
  },
  "language_info": {
   "codemirror_mode": {
    "name": "ipython",
    "version": 2
   },
   "file_extension": ".py",
   "mimetype": "text/x-python",
   "name": "python",
   "nbconvert_exporter": "python",
   "pygments_lexer": "ipython2",
   "version": "2.7.12"
  }
 },
 "nbformat": 4,
 "nbformat_minor": 1
}
