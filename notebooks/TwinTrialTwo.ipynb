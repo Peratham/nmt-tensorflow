{
 "cells": [
  {
   "cell_type": "code",
   "execution_count": null,
   "metadata": {
    "collapsed": true
   },
   "outputs": [],
   "source": [
    "import numpy as np\n",
    "import tensorflow as tf\n",
    "from tensorflow.python.ops import variable_scope as vs\n",
    "from threading import Thread\n",
    "from multiprocessing import Queue\n",
    "from time import time"
   ]
  },
  {
   "cell_type": "code",
   "execution_count": null,
   "metadata": {
    "collapsed": true
   },
   "outputs": [],
   "source": [
    "def basic_graph():\n",
    "    batch = tf.placeholder(tf.float32, [32, 32], name='batch_data_matrix')\n",
    "    with vs.variable_scope('full_con') as scope:\n",
    "        activation = batch\n",
    "        for i in range(1):\n",
    "            with vs.variable_scope(scope, reuse=True if i > 0 else None):\n",
    "                W_a = tf.get_variable('W_a', initializer=tf.random_normal([32, 32], stddev=0.1))\n",
    "                b_a = tf.get_variable('b_a', initializer=tf.random_normal([32], stddev=0.1))\n",
    "                activation = tf.sigmoid(tf.matmul(activation, W_a) + b_a)\n",
    "    return batch, activation"
   ]
  },
  {
   "cell_type": "code",
   "execution_count": null,
   "metadata": {
    "collapsed": false
   },
   "outputs": [],
   "source": [
    "def twin_compute(data):\n",
    "    graph = tf.Graph()\n",
    "    with graph.as_default():\n",
    "        with tf.device('/cpu:0'), vs.variable_scope('graph_1') as gscope_1:\n",
    "            batch_1, activation_1 = basic_graph()\n",
    "        with tf.device('/gpu:0'), vs.variable_scope('graph_2') as gscope_2:\n",
    "            batch_2, activation_2 = basic_graph()\n",
    "    with tf.Session(graph=graph) as sess:\n",
    "        sess.run(tf.initialize_all_variables())\n",
    "        out_1, out_2 = sess.run([activation_1, activation_2],\n",
    "                                {batch_1: data, batch_2: data})\n",
    "    return {'g1_res': out_1, 'g2_res': out_2}\n",
    "\n",
    "def sequential_compute(data):\n",
    "    graph_1 = tf.Graph()\n",
    "    with graph_1.as_default(), tf.device('/cpu:0'):\n",
    "        batch_1, activation_1 = basic_graph()\n",
    "    graph_2 = tf.Graph()\n",
    "    with graph_2.as_default(), tf.device('/gpu:0'):\n",
    "        batch_2, activation_2 = basic_graph()\n",
    "    with tf.Session(graph=graph_1) as sess:\n",
    "        sess.run(tf.initialize_all_variables())\n",
    "        out_1 = sess.run(activation_1, {batch_1: data})\n",
    "    with tf.Session(graph=graph_2) as sess:\n",
    "        sess.run(tf.initialize_all_variables())\n",
    "        out_2 = sess.run(activation_2, {batch_2: data})\n",
    "    return {'g1_res': out_1, 'g2_res': out_2}\n",
    "\n",
    "def single_compute(data):\n",
    "    graph = tf.Graph()\n",
    "    with graph.as_default(), tf.device('/gpu:0'):\n",
    "        batch, activation = basic_graph()\n",
    "    with tf.Session(graph=graph) as sess:\n",
    "        sess.run(tf.initialize_all_variables())\n",
    "        return sess.run(activation, {batch: data})\n",
    "    \n",
    "def thread_compute(data):\n",
    "    graph = tf.Graph()\n",
    "    out_q = Queue()\n",
    "    \n",
    "    with tf.device('/cpu:0'), vs.variable_scope('graph_1') as gscope_1:\n",
    "        batch_1, activation_1 = basic_graph()\n",
    "    with tf.device('/gpu:0'), vs.variable_scope('graph_2') as gscope_2:\n",
    "        batch_2, activation_2 = basic_graph()\n",
    "    \n",
    "    def worker(sess, data_op, res_op, data_in, out_q, name):\n",
    "        result = sess.run(res_op, {data_op: data_in})\n",
    "        out_q.put({name: result})\n",
    "        \n",
    "    with tf.Session(graph=graph) as sess:\n",
    "        sess.run(tf.initialize_all_variables())\n",
    "        jobs = []\n",
    "        jobs.append(Thread(target=worker, args=(sess, batch_1, activation_1, data, out_q, 'job_1')))\n",
    "        jobs.append(Thread(target=worker, args=(sess, batch_2, activation_2, data, out_q, 'job_2')))\n",
    "        \n",
    "        for j in jobs:\n",
    "            j.start()\n",
    "        \n",
    "        for j in jobs:\n",
    "            j.join()\n",
    "        \n",
    "    res = {}\n",
    "    res.update(out_q.get())\n",
    "    res.update(out_q.get())\n",
    "    \n",
    "    return res"
   ]
  },
  {
   "cell_type": "code",
   "execution_count": null,
   "metadata": {
    "collapsed": true
   },
   "outputs": [],
   "source": [
    "data = np.random.randn(32, 32).astype(np.float32)"
   ]
  },
  {
   "cell_type": "code",
   "execution_count": null,
   "metadata": {
    "collapsed": false
   },
   "outputs": [],
   "source": [
    "t = time()\n",
    "res = twin_compute(data)\n",
    "print 'Twin computation took %.6fs' %(time() - t)"
   ]
  },
  {
   "cell_type": "code",
   "execution_count": null,
   "metadata": {
    "collapsed": false
   },
   "outputs": [],
   "source": [
    "t = time()\n",
    "res = sequential_compute(data)\n",
    "print 'Sequential computation took %.6fs' %(time() - t)"
   ]
  },
  {
   "cell_type": "code",
   "execution_count": null,
   "metadata": {
    "collapsed": false
   },
   "outputs": [],
   "source": [
    "t = time()\n",
    "res = single_compute(data)\n",
    "print 'Single computation took %.6fs' %(time() - t)"
   ]
  },
  {
   "cell_type": "code",
   "execution_count": null,
   "metadata": {
    "collapsed": false
   },
   "outputs": [],
   "source": [
    "t = time()\n",
    "res = thread_compute(data)\n",
    "print 'Threaded computation took %.6fs' %(time() - t)"
   ]
  },
  {
   "cell_type": "code",
   "execution_count": null,
   "metadata": {
    "collapsed": true
   },
   "outputs": [],
   "source": []
  }
 ],
 "metadata": {
  "anaconda-cloud": {},
  "kernelspec": {
   "display_name": "Python [conda env:tensorflow]",
   "language": "python",
   "name": "conda-env-tensorflow-py"
  },
  "language_info": {
   "codemirror_mode": {
    "name": "ipython",
    "version": 2
   },
   "file_extension": ".py",
   "mimetype": "text/x-python",
   "name": "python",
   "nbconvert_exporter": "python",
   "pygments_lexer": "ipython2",
   "version": "2.7.12"
  }
 },
 "nbformat": 4,
 "nbformat_minor": 1
}
