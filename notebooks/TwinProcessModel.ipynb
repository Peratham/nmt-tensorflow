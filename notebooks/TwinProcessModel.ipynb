{
 "cells": [
  {
   "cell_type": "code",
   "execution_count": 1,
   "metadata": {
    "collapsed": true
   },
   "outputs": [],
   "source": [
    "from __future__ import print_function\n",
    "import numpy as np\n",
    "from time import time\n",
    "from multiprocessing import Process, Queue"
   ]
  },
  {
   "cell_type": "code",
   "execution_count": 2,
   "metadata": {
    "collapsed": true
   },
   "outputs": [],
   "source": [
    "def simple_job(out_q, data, device, name):\n",
    "    # Intra-process Imports.\n",
    "    import tensorflow as tf\n",
    "    from tensorflow.python.ops import variable_scope as vs\n",
    "    \n",
    "    # Intra-process Computation.\n",
    "    graph = tf.Graph()\n",
    "    with graph.as_default():\n",
    "        with tf.device(device):\n",
    "            batch = tf.placeholder(tf.float32, [2, 4], name='batch_data_matrix')\n",
    "            with vs.variable_scope('full_con_1') as scope:\n",
    "                W_a = tf.get_variable('W_a', initializer=tf.random_normal([4, 8], stddev=0.1))\n",
    "                b_a = tf.get_variable('b_a', initializer=tf.random_normal([8], stddev=0.1))\n",
    "                activation = tf.sigmoid(tf.matmul(batch, W_a) + b_a)\n",
    "    \n",
    "    # Intra-process Session Manager.\n",
    "    with tf.Session(graph=graph) as sess:\n",
    "        sess.run(tf.initialize_all_variables())\n",
    "        affine_out = sess.run(activation, {batch: data})\n",
    "    \n",
    "    # Intra-process Result Collection.\n",
    "    out_q.put({name: affine_out})"
   ]
  },
  {
   "cell_type": "code",
   "execution_count": 3,
   "metadata": {
    "collapsed": true
   },
   "outputs": [],
   "source": [
    "def run_twin(data):\n",
    "    # Gather data and Book-keeping.\n",
    "    out_q = Queue()\n",
    "    \n",
    "    # Build the processes.\n",
    "    task_one = Process(target=simple_job, args=(out_q, data, '/cpu:0', 'task_one'))\n",
    "    task_two = Process(target=simple_job, args=(out_q, data, '/gpu:0', 'task_two'))\n",
    "    \n",
    "    # Initialize processes.\n",
    "    task_one.start()\n",
    "    task_two.start()\n",
    "    \n",
    "    # Collect output.\n",
    "    results = {}\n",
    "    results.update(out_q.get())\n",
    "    results.update(out_q.get())\n",
    "        \n",
    "    # Terminate processes.\n",
    "    task_one.join()\n",
    "    task_two.join()\n",
    "    \n",
    "    return data, results"
   ]
  },
  {
   "cell_type": "code",
   "execution_count": 4,
   "metadata": {
    "collapsed": true
   },
   "outputs": [],
   "source": [
    "data = np.random.randn(2, 4).astype(np.float32)"
   ]
  },
  {
   "cell_type": "code",
   "execution_count": null,
   "metadata": {
    "collapsed": false
   },
   "outputs": [
    {
     "name": "stderr",
     "output_type": "stream",
     "text": [
      "Process Process-2:\n",
      "Traceback (most recent call last):\n",
      "  File \"/Users/PragaashP/anaconda2/envs/tensorflow/lib/python2.7/multiprocessing/process.py\", line 258, in _bootstrap\n",
      "    self.run()\n",
      "  File \"/Users/PragaashP/anaconda2/envs/tensorflow/lib/python2.7/multiprocessing/process.py\", line 114, in run\n",
      "    self._target(*self._args, **self._kwargs)\n",
      "  File \"<ipython-input-2-f7d5b37e35bb>\", line 19, in simple_job\n",
      "    affine_out = sess.run(activation, {batch: data})\n",
      "  File \"/Users/PragaashP/anaconda2/envs/tensorflow/lib/python2.7/site-packages/tensorflow/python/client/session.py\", line 717, in run\n",
      "    run_metadata_ptr)\n",
      "  File \"/Users/PragaashP/anaconda2/envs/tensorflow/lib/python2.7/site-packages/tensorflow/python/client/session.py\", line 915, in _run\n",
      "    feed_dict_string, options, run_metadata)\n",
      "  File \"/Users/PragaashP/anaconda2/envs/tensorflow/lib/python2.7/site-packages/tensorflow/python/client/session.py\", line 965, in _do_run\n",
      "    target_list, options, run_metadata)\n",
      "  File \"/Users/PragaashP/anaconda2/envs/tensorflow/lib/python2.7/site-packages/tensorflow/python/client/session.py\", line 985, in _do_call\n",
      "    raise type(e)(node_def, op, message)\n",
      "InternalError: Blas SGEMM launch failed : a.shape=(2, 4), b.shape=(4, 8), m=2, n=8, k=4\n",
      "\t [[Node: full_con_1/MatMul = MatMul[T=DT_FLOAT, transpose_a=false, transpose_b=false, _device=\"/job:localhost/replica:0/task:0/gpu:0\"](_recv_batch_data_matrix_0/_1, full_con_1/W_a/read)]]\n",
      "\t [[Node: full_con_1/Sigmoid/_3 = _Recv[client_terminated=false, recv_device=\"/job:localhost/replica:0/task:0/cpu:0\", send_device=\"/job:localhost/replica:0/task:0/gpu:0\", send_device_incarnation=1, tensor_name=\"edge_5_full_con_1/Sigmoid\", tensor_type=DT_FLOAT, _device=\"/job:localhost/replica:0/task:0/cpu:0\"]()]]\n",
      "\n",
      "Caused by op u'full_con_1/MatMul', defined at:\n",
      "  File \"/Users/PragaashP/anaconda2/envs/tensorflow/lib/python2.7/runpy.py\", line 174, in _run_module_as_main\n",
      "    \"__main__\", fname, loader, pkg_name)\n",
      "  File \"/Users/PragaashP/anaconda2/envs/tensorflow/lib/python2.7/runpy.py\", line 72, in _run_code\n",
      "    exec code in run_globals\n",
      "  File \"/Users/PragaashP/anaconda2/envs/tensorflow/lib/python2.7/site-packages/ipykernel/__main__.py\", line 3, in <module>\n",
      "    app.launch_new_instance()\n",
      "  File \"/Users/PragaashP/anaconda2/envs/tensorflow/lib/python2.7/site-packages/traitlets/config/application.py\", line 658, in launch_instance\n",
      "    app.start()\n",
      "  File \"/Users/PragaashP/anaconda2/envs/tensorflow/lib/python2.7/site-packages/ipykernel/kernelapp.py\", line 474, in start\n",
      "    ioloop.IOLoop.instance().start()\n",
      "  File \"/Users/PragaashP/anaconda2/envs/tensorflow/lib/python2.7/site-packages/zmq/eventloop/ioloop.py\", line 177, in start\n",
      "    super(ZMQIOLoop, self).start()\n",
      "  File \"/Users/PragaashP/anaconda2/envs/tensorflow/lib/python2.7/site-packages/tornado/ioloop.py\", line 887, in start\n",
      "    handler_func(fd_obj, events)\n",
      "  File \"/Users/PragaashP/anaconda2/envs/tensorflow/lib/python2.7/site-packages/tornado/stack_context.py\", line 275, in null_wrapper\n",
      "    return fn(*args, **kwargs)\n",
      "  File \"/Users/PragaashP/anaconda2/envs/tensorflow/lib/python2.7/site-packages/zmq/eventloop/zmqstream.py\", line 440, in _handle_events\n",
      "    self._handle_recv()\n",
      "  File \"/Users/PragaashP/anaconda2/envs/tensorflow/lib/python2.7/site-packages/zmq/eventloop/zmqstream.py\", line 472, in _handle_recv\n",
      "    self._run_callback(callback, msg)\n",
      "  File \"/Users/PragaashP/anaconda2/envs/tensorflow/lib/python2.7/site-packages/zmq/eventloop/zmqstream.py\", line 414, in _run_callback\n",
      "    callback(*args, **kwargs)\n",
      "  File \"/Users/PragaashP/anaconda2/envs/tensorflow/lib/python2.7/site-packages/tornado/stack_context.py\", line 275, in null_wrapper\n",
      "    return fn(*args, **kwargs)\n",
      "  File \"/Users/PragaashP/anaconda2/envs/tensorflow/lib/python2.7/site-packages/ipykernel/kernelbase.py\", line 276, in dispatcher\n",
      "    return self.dispatch_shell(stream, msg)\n",
      "  File \"/Users/PragaashP/anaconda2/envs/tensorflow/lib/python2.7/site-packages/ipykernel/kernelbase.py\", line 228, in dispatch_shell\n",
      "    handler(stream, idents, msg)\n",
      "  File \"/Users/PragaashP/anaconda2/envs/tensorflow/lib/python2.7/site-packages/ipykernel/kernelbase.py\", line 390, in execute_request\n",
      "    user_expressions, allow_stdin)\n",
      "  File \"/Users/PragaashP/anaconda2/envs/tensorflow/lib/python2.7/site-packages/ipykernel/ipkernel.py\", line 196, in do_execute\n",
      "    res = shell.run_cell(code, store_history=store_history, silent=silent)\n",
      "  File \"/Users/PragaashP/anaconda2/envs/tensorflow/lib/python2.7/site-packages/ipykernel/zmqshell.py\", line 501, in run_cell\n",
      "    return super(ZMQInteractiveShell, self).run_cell(*args, **kwargs)\n",
      "  File \"/Users/PragaashP/anaconda2/envs/tensorflow/lib/python2.7/site-packages/IPython/core/interactiveshell.py\", line 2717, in run_cell\n",
      "    interactivity=interactivity, compiler=compiler, result=result)\n",
      "  File \"/Users/PragaashP/anaconda2/envs/tensorflow/lib/python2.7/site-packages/IPython/core/interactiveshell.py\", line 2821, in run_ast_nodes\n",
      "    if self.run_code(code, result):\n",
      "  File \"/Users/PragaashP/anaconda2/envs/tensorflow/lib/python2.7/site-packages/IPython/core/interactiveshell.py\", line 2881, in run_code\n",
      "    exec(code_obj, self.user_global_ns, self.user_ns)\n",
      "  File \"<ipython-input-6-e315477b580c>\", line 2, in <module>\n",
      "    res = run_twin(data)\n",
      "  File \"<ipython-input-3-06531fda09b9>\", line 11, in run_twin\n",
      "    task_two.start()\n",
      "  File \"/Users/PragaashP/anaconda2/envs/tensorflow/lib/python2.7/multiprocessing/process.py\", line 130, in start\n",
      "    self._popen = Popen(self)\n",
      "  File \"/Users/PragaashP/anaconda2/envs/tensorflow/lib/python2.7/multiprocessing/forking.py\", line 126, in __init__\n",
      "    code = process_obj._bootstrap()\n",
      "  File \"/Users/PragaashP/anaconda2/envs/tensorflow/lib/python2.7/multiprocessing/process.py\", line 258, in _bootstrap\n",
      "    self.run()\n",
      "  File \"/Users/PragaashP/anaconda2/envs/tensorflow/lib/python2.7/multiprocessing/process.py\", line 114, in run\n",
      "    self._target(*self._args, **self._kwargs)\n",
      "  File \"<ipython-input-2-f7d5b37e35bb>\", line 14, in simple_job\n",
      "    activation = tf.sigmoid(tf.matmul(batch, W_a) + b_a)\n",
      "  File \"/Users/PragaashP/anaconda2/envs/tensorflow/lib/python2.7/site-packages/tensorflow/python/ops/math_ops.py\", line 1398, in matmul\n",
      "    name=name)\n",
      "  File \"/Users/PragaashP/anaconda2/envs/tensorflow/lib/python2.7/site-packages/tensorflow/python/ops/gen_math_ops.py\", line 1348, in _mat_mul\n",
      "    transpose_b=transpose_b, name=name)\n",
      "  File \"/Users/PragaashP/anaconda2/envs/tensorflow/lib/python2.7/site-packages/tensorflow/python/framework/op_def_library.py\", line 749, in apply_op\n",
      "    op_def=op_def)\n",
      "  File \"/Users/PragaashP/anaconda2/envs/tensorflow/lib/python2.7/site-packages/tensorflow/python/framework/ops.py\", line 2380, in create_op\n",
      "    original_op=self._default_original_op, op_def=op_def)\n",
      "  File \"/Users/PragaashP/anaconda2/envs/tensorflow/lib/python2.7/site-packages/tensorflow/python/framework/ops.py\", line 1298, in __init__\n",
      "    self._traceback = _extract_stack()\n",
      "\n",
      "InternalError (see above for traceback): Blas SGEMM launch failed : a.shape=(2, 4), b.shape=(4, 8), m=2, n=8, k=4\n",
      "\t [[Node: full_con_1/MatMul = MatMul[T=DT_FLOAT, transpose_a=false, transpose_b=false, _device=\"/job:localhost/replica:0/task:0/gpu:0\"](_recv_batch_data_matrix_0/_1, full_con_1/W_a/read)]]\n",
      "\t [[Node: full_con_1/Sigmoid/_3 = _Recv[client_terminated=false, recv_device=\"/job:localhost/replica:0/task:0/cpu:0\", send_device=\"/job:localhost/replica:0/task:0/gpu:0\", send_device_incarnation=1, tensor_name=\"edge_5_full_con_1/Sigmoid\", tensor_type=DT_FLOAT, _device=\"/job:localhost/replica:0/task:0/cpu:0\"]()]]\n",
      "\n"
     ]
    }
   ],
   "source": [
    "t = time()\n",
    "res = run_twin(data)\n",
    "print(\"Twin concurrent jobs took %.6fs\" %(time() - t))"
   ]
  },
  {
   "cell_type": "code",
   "execution_count": 33,
   "metadata": {
    "collapsed": false
   },
   "outputs": [
    {
     "data": {
      "text/plain": [
       "[(2, 8), (2, 8)]"
      ]
     },
     "execution_count": 33,
     "metadata": {},
     "output_type": "execute_result"
    }
   ],
   "source": [
    "map(lambda x: x.shape, res.values())"
   ]
  },
  {
   "cell_type": "code",
   "execution_count": 8,
   "metadata": {
    "collapsed": false
   },
   "outputs": [
    {
     "data": {
      "text/plain": [
       "array([[ 0.24282973, -0.05691367,  0.86136663,  0.81268179],\n",
       "       [ 0.61341918,  0.28797001, -0.95122713, -0.08148833]], dtype=float32)"
      ]
     },
     "execution_count": 8,
     "metadata": {},
     "output_type": "execute_result"
    }
   ],
   "source": [
    "data"
   ]
  },
  {
   "cell_type": "code",
   "execution_count": 4,
   "metadata": {
    "collapsed": true
   },
   "outputs": [],
   "source": [
    "class SimpleQueue(object):\n",
    "    def __init__(self):\n",
    "        self.data = []\n",
    "        \n",
    "    def put(self, item):\n",
    "        self.data.append(item)"
   ]
  },
  {
   "cell_type": "code",
   "execution_count": 9,
   "metadata": {
    "collapsed": false
   },
   "outputs": [
    {
     "name": "stdout",
     "output_type": "stream",
     "text": [
      "Single Job took 0.492966s\n"
     ]
    }
   ],
   "source": [
    "A = SimpleQueue()\n",
    "t = time()\n",
    "simple_job(A, data, '/gpu:0', 'task_one')\n",
    "print(\"Single Job took %.6fs\" %(time() - t))"
   ]
  },
  {
   "cell_type": "code",
   "execution_count": null,
   "metadata": {
    "collapsed": true
   },
   "outputs": [],
   "source": []
  }
 ],
 "metadata": {
  "anaconda-cloud": {},
  "kernelspec": {
   "display_name": "Python [conda env:tensorflow]",
   "language": "python",
   "name": "conda-env-tensorflow-py"
  },
  "language_info": {
   "codemirror_mode": {
    "name": "ipython",
    "version": 2
   },
   "file_extension": ".py",
   "mimetype": "text/x-python",
   "name": "python",
   "nbconvert_exporter": "python",
   "pygments_lexer": "ipython2",
   "version": "2.7.12"
  }
 },
 "nbformat": 4,
 "nbformat_minor": 1
}
